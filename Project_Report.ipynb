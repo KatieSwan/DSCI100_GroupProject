{
 "cells": [
  {
   "cell_type": "markdown",
   "id": "ef6592ef-7032-41ba-8103-db5e9eab93e5",
   "metadata": {},
   "source": [
    "**Predicting a Tennis Player's Rank**\n",
    "\n",
    "Section 004\n",
    "\n",
    "Jonathan Chan (34466219), Erick Jovan Muljadi (96641055), Katie Swangard (13265202), Aurora Wang (47454038)"
   ]
  },
  {
   "cell_type": "code",
   "execution_count": 1,
   "id": "f5cee191-f42e-46e2-b5dd-05d7e830530f",
   "metadata": {},
   "outputs": [
    {
     "name": "stderr",
     "output_type": "stream",
     "text": [
      "── \u001b[1mAttaching packages\u001b[22m ─────────────────────────────────────── tidyverse 1.3.1 ──\n",
      "\n",
      "\u001b[32m✔\u001b[39m \u001b[34mggplot2\u001b[39m 3.3.6     \u001b[32m✔\u001b[39m \u001b[34mpurrr  \u001b[39m 0.3.4\n",
      "\u001b[32m✔\u001b[39m \u001b[34mtibble \u001b[39m 3.1.7     \u001b[32m✔\u001b[39m \u001b[34mdplyr  \u001b[39m 1.0.9\n",
      "\u001b[32m✔\u001b[39m \u001b[34mtidyr  \u001b[39m 1.2.0     \u001b[32m✔\u001b[39m \u001b[34mstringr\u001b[39m 1.4.0\n",
      "\u001b[32m✔\u001b[39m \u001b[34mreadr  \u001b[39m 2.1.2     \u001b[32m✔\u001b[39m \u001b[34mforcats\u001b[39m 0.5.1\n",
      "\n",
      "── \u001b[1mConflicts\u001b[22m ────────────────────────────────────────── tidyverse_conflicts() ──\n",
      "\u001b[31m✖\u001b[39m \u001b[34mdplyr\u001b[39m::\u001b[32mfilter()\u001b[39m masks \u001b[34mstats\u001b[39m::filter()\n",
      "\u001b[31m✖\u001b[39m \u001b[34mdplyr\u001b[39m::\u001b[32mlag()\u001b[39m    masks \u001b[34mstats\u001b[39m::lag()\n",
      "\n",
      "── \u001b[1mAttaching packages\u001b[22m ────────────────────────────────────── tidymodels 1.0.0 ──\n",
      "\n",
      "\u001b[32m✔\u001b[39m \u001b[34mbroom       \u001b[39m 1.0.0     \u001b[32m✔\u001b[39m \u001b[34mrsample     \u001b[39m 1.0.0\n",
      "\u001b[32m✔\u001b[39m \u001b[34mdials       \u001b[39m 1.0.0     \u001b[32m✔\u001b[39m \u001b[34mtune        \u001b[39m 1.0.0\n",
      "\u001b[32m✔\u001b[39m \u001b[34minfer       \u001b[39m 1.0.2     \u001b[32m✔\u001b[39m \u001b[34mworkflows   \u001b[39m 1.0.0\n",
      "\u001b[32m✔\u001b[39m \u001b[34mmodeldata   \u001b[39m 1.0.0     \u001b[32m✔\u001b[39m \u001b[34mworkflowsets\u001b[39m 1.0.0\n",
      "\u001b[32m✔\u001b[39m \u001b[34mparsnip     \u001b[39m 1.0.0     \u001b[32m✔\u001b[39m \u001b[34myardstick   \u001b[39m 1.0.0\n",
      "\u001b[32m✔\u001b[39m \u001b[34mrecipes     \u001b[39m 1.0.1     \n",
      "\n",
      "── \u001b[1mConflicts\u001b[22m ───────────────────────────────────────── tidymodels_conflicts() ──\n",
      "\u001b[31m✖\u001b[39m \u001b[34mscales\u001b[39m::\u001b[32mdiscard()\u001b[39m masks \u001b[34mpurrr\u001b[39m::discard()\n",
      "\u001b[31m✖\u001b[39m \u001b[34mdplyr\u001b[39m::\u001b[32mfilter()\u001b[39m   masks \u001b[34mstats\u001b[39m::filter()\n",
      "\u001b[31m✖\u001b[39m \u001b[34mrecipes\u001b[39m::\u001b[32mfixed()\u001b[39m  masks \u001b[34mstringr\u001b[39m::fixed()\n",
      "\u001b[31m✖\u001b[39m \u001b[34mdplyr\u001b[39m::\u001b[32mlag()\u001b[39m      masks \u001b[34mstats\u001b[39m::lag()\n",
      "\u001b[31m✖\u001b[39m \u001b[34myardstick\u001b[39m::\u001b[32mspec()\u001b[39m masks \u001b[34mreadr\u001b[39m::spec()\n",
      "\u001b[31m✖\u001b[39m \u001b[34mrecipes\u001b[39m::\u001b[32mstep()\u001b[39m   masks \u001b[34mstats\u001b[39m::step()\n",
      "\u001b[34m•\u001b[39m Learn how to get started at \u001b[32mhttps://www.tidymodels.org/start/\u001b[39m\n",
      "\n"
     ]
    }
   ],
   "source": [
    "# Loading in necessary libraries and setting the seed:\n",
    "set.seed(0004)\n",
    "library(tidyverse)\n",
    "library(repr)\n",
    "library(tidymodels)\n",
    "library(ggplot2)\n",
    "library(digest)\n",
    "library(cowplot)"
   ]
  },
  {
   "cell_type": "markdown",
   "id": "be533912-2911-460d-a7af-2066c8696640",
   "metadata": {},
   "source": [
    "**Background Information**\n",
    "\n",
    "ATP is a worldwide top-tier tennis tour for men organized by the Association of Tennis Professionals.  The question we are trying to ask is: based on three given characteristics of a new player (height, age and hand use), what ATP ranking will he achieve on each of the three different surfaces?  \n",
    "\n",
    "We will use the dataset \"Match Results for Top 500 Players 2017-2019\". This data set includes the game statistics from 2017-2019 tournaments. It contains the ranking, results and match statistics of the top 500 players in the ATP, as well as individual characteristics of the winners and losers of each match, such as height, age, and hand use. \n",
    "\n"
   ]
  },
  {
   "cell_type": "code",
   "execution_count": 2,
   "id": "c9a17368-6e8a-471c-a45d-ffb97b371338",
   "metadata": {},
   "outputs": [
    {
     "name": "stdout",
     "output_type": "stream",
     "text": [
      "[1] \"Table 1: The dataset used in this data analysis.\"\n"
     ]
    },
    {
     "name": "stderr",
     "output_type": "stream",
     "text": [
      "\u001b[1m\u001b[22mNew names:\n",
      "\u001b[36m•\u001b[39m `` -> `...1`\n",
      "\u001b[1mRows: \u001b[22m\u001b[34m6866\u001b[39m \u001b[1mColumns: \u001b[22m\u001b[34m50\u001b[39m\n",
      "\u001b[36m──\u001b[39m \u001b[1mColumn specification\u001b[22m \u001b[36m────────────────────────────────────────────────────────\u001b[39m\n",
      "\u001b[1mDelimiter:\u001b[22m \",\"\n",
      "\u001b[31mchr\u001b[39m (16): tourney_id, tourney_name, surface, tourney_level, winner_seed, win...\n",
      "\u001b[32mdbl\u001b[39m (34): ...1, draw_size, tourney_date, match_num, winner_id, winner_ht, wi...\n",
      "\n",
      "\u001b[36mℹ\u001b[39m Use `spec()` to retrieve the full column specification for this data.\n",
      "\u001b[36mℹ\u001b[39m Specify the column types or set `show_col_types = FALSE` to quiet this message.\n"
     ]
    },
    {
     "data": {
      "text/html": [
       "<table class=\"dataframe\">\n",
       "<caption>A tibble: 6 × 50</caption>\n",
       "<thead>\n",
       "\t<tr><th scope=col>ID_num</th><th scope=col>tourney_id</th><th scope=col>tourney_name</th><th scope=col>surface</th><th scope=col>draw_size</th><th scope=col>tourney_level</th><th scope=col>tourney_date</th><th scope=col>match_num</th><th scope=col>winner_id</th><th scope=col>winner_seed</th><th scope=col>⋯</th><th scope=col>l_1stIn</th><th scope=col>l_1stWon</th><th scope=col>l_2ndWon</th><th scope=col>l_SvGms</th><th scope=col>l_bpSaved</th><th scope=col>l_bpFaced</th><th scope=col>winner_rank</th><th scope=col>winner_rank_points</th><th scope=col>loser_rank</th><th scope=col>loser_rank_points</th></tr>\n",
       "\t<tr><th scope=col>&lt;dbl&gt;</th><th scope=col>&lt;chr&gt;</th><th scope=col>&lt;chr&gt;</th><th scope=col>&lt;chr&gt;</th><th scope=col>&lt;dbl&gt;</th><th scope=col>&lt;chr&gt;</th><th scope=col>&lt;dbl&gt;</th><th scope=col>&lt;dbl&gt;</th><th scope=col>&lt;dbl&gt;</th><th scope=col>&lt;chr&gt;</th><th scope=col>⋯</th><th scope=col>&lt;dbl&gt;</th><th scope=col>&lt;dbl&gt;</th><th scope=col>&lt;dbl&gt;</th><th scope=col>&lt;dbl&gt;</th><th scope=col>&lt;dbl&gt;</th><th scope=col>&lt;dbl&gt;</th><th scope=col>&lt;dbl&gt;</th><th scope=col>&lt;dbl&gt;</th><th scope=col>&lt;dbl&gt;</th><th scope=col>&lt;dbl&gt;</th></tr>\n",
       "</thead>\n",
       "<tbody>\n",
       "\t<tr><td>0</td><td>2019-M020</td><td>Brisbane</td><td>Hard</td><td>32</td><td>A</td><td>20181231</td><td>300</td><td>105453</td><td>2 </td><td>⋯</td><td>54</td><td>34</td><td>20</td><td>14</td><td>10</td><td>15</td><td>  9</td><td>3590</td><td> 16</td><td>1977</td></tr>\n",
       "\t<tr><td>1</td><td>2019-M020</td><td>Brisbane</td><td>Hard</td><td>32</td><td>A</td><td>20181231</td><td>299</td><td>106421</td><td>4 </td><td>⋯</td><td>52</td><td>36</td><td> 7</td><td>10</td><td>10</td><td>13</td><td> 16</td><td>1977</td><td>239</td><td> 200</td></tr>\n",
       "\t<tr><td>2</td><td>2019-M020</td><td>Brisbane</td><td>Hard</td><td>32</td><td>A</td><td>20181231</td><td>298</td><td>105453</td><td>2 </td><td>⋯</td><td>27</td><td>15</td><td> 6</td><td> 8</td><td> 1</td><td> 5</td><td>  9</td><td>3590</td><td> 40</td><td>1050</td></tr>\n",
       "\t<tr><td>3</td><td>2019-M020</td><td>Brisbane</td><td>Hard</td><td>32</td><td>A</td><td>20181231</td><td>297</td><td>104542</td><td>NA</td><td>⋯</td><td>60</td><td>38</td><td> 9</td><td>11</td><td> 4</td><td> 6</td><td>239</td><td> 200</td><td> 31</td><td>1298</td></tr>\n",
       "\t<tr><td>4</td><td>2019-M020</td><td>Brisbane</td><td>Hard</td><td>32</td><td>A</td><td>20181231</td><td>296</td><td>106421</td><td>4 </td><td>⋯</td><td>56</td><td>46</td><td>19</td><td>15</td><td> 2</td><td> 4</td><td> 16</td><td>1977</td><td> 18</td><td>1855</td></tr>\n",
       "\t<tr><td>5</td><td>2019-M020</td><td>Brisbane</td><td>Hard</td><td>32</td><td>A</td><td>20181231</td><td>295</td><td>104871</td><td>NA</td><td>⋯</td><td>54</td><td>40</td><td>18</td><td>15</td><td> 6</td><td> 9</td><td> 40</td><td>1050</td><td>185</td><td> 275</td></tr>\n",
       "</tbody>\n",
       "</table>\n"
      ],
      "text/latex": [
       "A tibble: 6 × 50\n",
       "\\begin{tabular}{lllllllllllllllllllll}\n",
       " ID\\_num & tourney\\_id & tourney\\_name & surface & draw\\_size & tourney\\_level & tourney\\_date & match\\_num & winner\\_id & winner\\_seed & ⋯ & l\\_1stIn & l\\_1stWon & l\\_2ndWon & l\\_SvGms & l\\_bpSaved & l\\_bpFaced & winner\\_rank & winner\\_rank\\_points & loser\\_rank & loser\\_rank\\_points\\\\\n",
       " <dbl> & <chr> & <chr> & <chr> & <dbl> & <chr> & <dbl> & <dbl> & <dbl> & <chr> & ⋯ & <dbl> & <dbl> & <dbl> & <dbl> & <dbl> & <dbl> & <dbl> & <dbl> & <dbl> & <dbl>\\\\\n",
       "\\hline\n",
       "\t 0 & 2019-M020 & Brisbane & Hard & 32 & A & 20181231 & 300 & 105453 & 2  & ⋯ & 54 & 34 & 20 & 14 & 10 & 15 &   9 & 3590 &  16 & 1977\\\\\n",
       "\t 1 & 2019-M020 & Brisbane & Hard & 32 & A & 20181231 & 299 & 106421 & 4  & ⋯ & 52 & 36 &  7 & 10 & 10 & 13 &  16 & 1977 & 239 &  200\\\\\n",
       "\t 2 & 2019-M020 & Brisbane & Hard & 32 & A & 20181231 & 298 & 105453 & 2  & ⋯ & 27 & 15 &  6 &  8 &  1 &  5 &   9 & 3590 &  40 & 1050\\\\\n",
       "\t 3 & 2019-M020 & Brisbane & Hard & 32 & A & 20181231 & 297 & 104542 & NA & ⋯ & 60 & 38 &  9 & 11 &  4 &  6 & 239 &  200 &  31 & 1298\\\\\n",
       "\t 4 & 2019-M020 & Brisbane & Hard & 32 & A & 20181231 & 296 & 106421 & 4  & ⋯ & 56 & 46 & 19 & 15 &  2 &  4 &  16 & 1977 &  18 & 1855\\\\\n",
       "\t 5 & 2019-M020 & Brisbane & Hard & 32 & A & 20181231 & 295 & 104871 & NA & ⋯ & 54 & 40 & 18 & 15 &  6 &  9 &  40 & 1050 & 185 &  275\\\\\n",
       "\\end{tabular}\n"
      ],
      "text/markdown": [
       "\n",
       "A tibble: 6 × 50\n",
       "\n",
       "| ID_num &lt;dbl&gt; | tourney_id &lt;chr&gt; | tourney_name &lt;chr&gt; | surface &lt;chr&gt; | draw_size &lt;dbl&gt; | tourney_level &lt;chr&gt; | tourney_date &lt;dbl&gt; | match_num &lt;dbl&gt; | winner_id &lt;dbl&gt; | winner_seed &lt;chr&gt; | ⋯ ⋯ | l_1stIn &lt;dbl&gt; | l_1stWon &lt;dbl&gt; | l_2ndWon &lt;dbl&gt; | l_SvGms &lt;dbl&gt; | l_bpSaved &lt;dbl&gt; | l_bpFaced &lt;dbl&gt; | winner_rank &lt;dbl&gt; | winner_rank_points &lt;dbl&gt; | loser_rank &lt;dbl&gt; | loser_rank_points &lt;dbl&gt; |\n",
       "|---|---|---|---|---|---|---|---|---|---|---|---|---|---|---|---|---|---|---|---|---|\n",
       "| 0 | 2019-M020 | Brisbane | Hard | 32 | A | 20181231 | 300 | 105453 | 2  | ⋯ | 54 | 34 | 20 | 14 | 10 | 15 |   9 | 3590 |  16 | 1977 |\n",
       "| 1 | 2019-M020 | Brisbane | Hard | 32 | A | 20181231 | 299 | 106421 | 4  | ⋯ | 52 | 36 |  7 | 10 | 10 | 13 |  16 | 1977 | 239 |  200 |\n",
       "| 2 | 2019-M020 | Brisbane | Hard | 32 | A | 20181231 | 298 | 105453 | 2  | ⋯ | 27 | 15 |  6 |  8 |  1 |  5 |   9 | 3590 |  40 | 1050 |\n",
       "| 3 | 2019-M020 | Brisbane | Hard | 32 | A | 20181231 | 297 | 104542 | NA | ⋯ | 60 | 38 |  9 | 11 |  4 |  6 | 239 |  200 |  31 | 1298 |\n",
       "| 4 | 2019-M020 | Brisbane | Hard | 32 | A | 20181231 | 296 | 106421 | 4  | ⋯ | 56 | 46 | 19 | 15 |  2 |  4 |  16 | 1977 |  18 | 1855 |\n",
       "| 5 | 2019-M020 | Brisbane | Hard | 32 | A | 20181231 | 295 | 104871 | NA | ⋯ | 54 | 40 | 18 | 15 |  6 |  9 |  40 | 1050 | 185 |  275 |\n",
       "\n"
      ],
      "text/plain": [
       "  ID_num tourney_id tourney_name surface draw_size tourney_level tourney_date\n",
       "1 0      2019-M020  Brisbane     Hard    32        A             20181231    \n",
       "2 1      2019-M020  Brisbane     Hard    32        A             20181231    \n",
       "3 2      2019-M020  Brisbane     Hard    32        A             20181231    \n",
       "4 3      2019-M020  Brisbane     Hard    32        A             20181231    \n",
       "5 4      2019-M020  Brisbane     Hard    32        A             20181231    \n",
       "6 5      2019-M020  Brisbane     Hard    32        A             20181231    \n",
       "  match_num winner_id winner_seed ⋯ l_1stIn l_1stWon l_2ndWon l_SvGms l_bpSaved\n",
       "1 300       105453    2           ⋯ 54      34       20       14      10       \n",
       "2 299       106421    4           ⋯ 52      36        7       10      10       \n",
       "3 298       105453    2           ⋯ 27      15        6        8       1       \n",
       "4 297       104542    NA          ⋯ 60      38        9       11       4       \n",
       "5 296       106421    4           ⋯ 56      46       19       15       2       \n",
       "6 295       104871    NA          ⋯ 54      40       18       15       6       \n",
       "  l_bpFaced winner_rank winner_rank_points loser_rank loser_rank_points\n",
       "1 15          9         3590                16        1977             \n",
       "2 13         16         1977               239         200             \n",
       "3  5          9         3590                40        1050             \n",
       "4  6        239          200                31        1298             \n",
       "5  4         16         1977                18        1855             \n",
       "6  9         40         1050               185         275             "
      ]
     },
     "metadata": {},
     "output_type": "display_data"
    }
   ],
   "source": [
    "# Reading in our dataset:\n",
    "print(\"Table 1: The dataset used in this data analysis.\")\n",
    "tennis <- read_csv(\"https://drive.google.com/uc?export=download&id=1fOQ8sy_qMkQiQEAO6uFdRX4tLI8EpSTn\")|>\n",
    "    rename(\"ID_num\" = 1)\n",
    "# As the whole dataset would be too large to display, we are only displaying the first 10 rows here.\n",
    "head(tennis)"
   ]
  },
  {
   "cell_type": "code",
   "execution_count": 6,
   "id": "e00f0a1a-165c-43cd-a0f6-223ff96b98ef",
   "metadata": {},
   "outputs": [
    {
     "name": "stdout",
     "output_type": "stream",
     "text": [
      "[1] \"Table 2: The first 10 columns of the dataset after the data has been tidied and wrangled.\"\n"
     ]
    },
    {
     "data": {
      "text/html": [
       "<table class=\"dataframe\">\n",
       "<caption>A tibble: 10 × 8</caption>\n",
       "<thead>\n",
       "\t<tr><th scope=col>ID_num</th><th scope=col>surface</th><th scope=col>wol_rank</th><th scope=col>rank</th><th scope=col>wol_height</th><th scope=col>height</th><th scope=col>wol_age</th><th scope=col>value</th></tr>\n",
       "\t<tr><th scope=col>&lt;fct&gt;</th><th scope=col>&lt;chr&gt;</th><th scope=col>&lt;chr&gt;</th><th scope=col>&lt;dbl&gt;</th><th scope=col>&lt;chr&gt;</th><th scope=col>&lt;dbl&gt;</th><th scope=col>&lt;chr&gt;</th><th scope=col>&lt;dbl&gt;</th></tr>\n",
       "</thead>\n",
       "<tbody>\n",
       "\t<tr><td>0</td><td>Hard</td><td>winner_rank</td><td>  9</td><td>winner_ht</td><td>178</td><td>winner_age</td><td>29.00479</td></tr>\n",
       "\t<tr><td>0</td><td>Hard</td><td>winner_rank</td><td>  9</td><td>winner_ht</td><td>178</td><td>loser_age </td><td>22.88569</td></tr>\n",
       "\t<tr><td>0</td><td>Hard</td><td>loser_rank </td><td> 16</td><td>winner_ht</td><td>178</td><td>winner_age</td><td>29.00479</td></tr>\n",
       "\t<tr><td>0</td><td>Hard</td><td>loser_rank </td><td> 16</td><td>winner_ht</td><td>178</td><td>loser_age </td><td>22.88569</td></tr>\n",
       "\t<tr><td>1</td><td>Hard</td><td>winner_rank</td><td> 16</td><td>loser_ht </td><td>188</td><td>winner_age</td><td>22.88569</td></tr>\n",
       "\t<tr><td>1</td><td>Hard</td><td>winner_rank</td><td> 16</td><td>loser_ht </td><td>188</td><td>loser_age </td><td>33.70568</td></tr>\n",
       "\t<tr><td>1</td><td>Hard</td><td>loser_rank </td><td>239</td><td>loser_ht </td><td>188</td><td>winner_age</td><td>22.88569</td></tr>\n",
       "\t<tr><td>1</td><td>Hard</td><td>loser_rank </td><td>239</td><td>loser_ht </td><td>188</td><td>loser_age </td><td>33.70568</td></tr>\n",
       "\t<tr><td>2</td><td>Hard</td><td>winner_rank</td><td>  9</td><td>winner_ht</td><td>178</td><td>winner_age</td><td>29.00479</td></tr>\n",
       "\t<tr><td>2</td><td>Hard</td><td>winner_rank</td><td>  9</td><td>winner_ht</td><td>178</td><td>loser_age </td><td>31.88227</td></tr>\n",
       "</tbody>\n",
       "</table>\n"
      ],
      "text/latex": [
       "A tibble: 10 × 8\n",
       "\\begin{tabular}{llllllll}\n",
       " ID\\_num & surface & wol\\_rank & rank & wol\\_height & height & wol\\_age & value\\\\\n",
       " <fct> & <chr> & <chr> & <dbl> & <chr> & <dbl> & <chr> & <dbl>\\\\\n",
       "\\hline\n",
       "\t 0 & Hard & winner\\_rank &   9 & winner\\_ht & 178 & winner\\_age & 29.00479\\\\\n",
       "\t 0 & Hard & winner\\_rank &   9 & winner\\_ht & 178 & loser\\_age  & 22.88569\\\\\n",
       "\t 0 & Hard & loser\\_rank  &  16 & winner\\_ht & 178 & winner\\_age & 29.00479\\\\\n",
       "\t 0 & Hard & loser\\_rank  &  16 & winner\\_ht & 178 & loser\\_age  & 22.88569\\\\\n",
       "\t 1 & Hard & winner\\_rank &  16 & loser\\_ht  & 188 & winner\\_age & 22.88569\\\\\n",
       "\t 1 & Hard & winner\\_rank &  16 & loser\\_ht  & 188 & loser\\_age  & 33.70568\\\\\n",
       "\t 1 & Hard & loser\\_rank  & 239 & loser\\_ht  & 188 & winner\\_age & 22.88569\\\\\n",
       "\t 1 & Hard & loser\\_rank  & 239 & loser\\_ht  & 188 & loser\\_age  & 33.70568\\\\\n",
       "\t 2 & Hard & winner\\_rank &   9 & winner\\_ht & 178 & winner\\_age & 29.00479\\\\\n",
       "\t 2 & Hard & winner\\_rank &   9 & winner\\_ht & 178 & loser\\_age  & 31.88227\\\\\n",
       "\\end{tabular}\n"
      ],
      "text/markdown": [
       "\n",
       "A tibble: 10 × 8\n",
       "\n",
       "| ID_num &lt;fct&gt; | surface &lt;chr&gt; | wol_rank &lt;chr&gt; | rank &lt;dbl&gt; | wol_height &lt;chr&gt; | height &lt;dbl&gt; | wol_age &lt;chr&gt; | value &lt;dbl&gt; |\n",
       "|---|---|---|---|---|---|---|---|\n",
       "| 0 | Hard | winner_rank |   9 | winner_ht | 178 | winner_age | 29.00479 |\n",
       "| 0 | Hard | winner_rank |   9 | winner_ht | 178 | loser_age  | 22.88569 |\n",
       "| 0 | Hard | loser_rank  |  16 | winner_ht | 178 | winner_age | 29.00479 |\n",
       "| 0 | Hard | loser_rank  |  16 | winner_ht | 178 | loser_age  | 22.88569 |\n",
       "| 1 | Hard | winner_rank |  16 | loser_ht  | 188 | winner_age | 22.88569 |\n",
       "| 1 | Hard | winner_rank |  16 | loser_ht  | 188 | loser_age  | 33.70568 |\n",
       "| 1 | Hard | loser_rank  | 239 | loser_ht  | 188 | winner_age | 22.88569 |\n",
       "| 1 | Hard | loser_rank  | 239 | loser_ht  | 188 | loser_age  | 33.70568 |\n",
       "| 2 | Hard | winner_rank |   9 | winner_ht | 178 | winner_age | 29.00479 |\n",
       "| 2 | Hard | winner_rank |   9 | winner_ht | 178 | loser_age  | 31.88227 |\n",
       "\n"
      ],
      "text/plain": [
       "   ID_num surface wol_rank    rank wol_height height wol_age    value   \n",
       "1  0      Hard    winner_rank   9  winner_ht  178    winner_age 29.00479\n",
       "2  0      Hard    winner_rank   9  winner_ht  178    loser_age  22.88569\n",
       "3  0      Hard    loser_rank   16  winner_ht  178    winner_age 29.00479\n",
       "4  0      Hard    loser_rank   16  winner_ht  178    loser_age  22.88569\n",
       "5  1      Hard    winner_rank  16  loser_ht   188    winner_age 22.88569\n",
       "6  1      Hard    winner_rank  16  loser_ht   188    loser_age  33.70568\n",
       "7  1      Hard    loser_rank  239  loser_ht   188    winner_age 22.88569\n",
       "8  1      Hard    loser_rank  239  loser_ht   188    loser_age  33.70568\n",
       "9  2      Hard    winner_rank   9  winner_ht  178    winner_age 29.00479\n",
       "10 2      Hard    winner_rank   9  winner_ht  178    loser_age  31.88227"
      ]
     },
     "metadata": {},
     "output_type": "display_data"
    }
   ],
   "source": [
    "# Selecting only for rows needed in our data analysis:\n",
    "tennis_smaller <- tennis|>\n",
    "    select(ID_num,winner_ht,winner_age, winner_rank,surface,loser_ht, loser_age, loser_rank)|>\n",
    "    mutate(ID_num = as_factor(ID_num)) # Mutating ID_num and winner_hand into factor columns.\n",
    "# Combining winner and loser data into one column:\n",
    "tennis_pivot <- tennis_smaller |>\n",
    "    pivot_longer(cols = c(\"winner_rank\", \"loser_rank\"),\n",
    "                     names_to = \"wol_rank\",\n",
    "                     values_to = \"rank\") |>\n",
    "    pivot_longer(cols = c(\"winner_ht\", \"loser_ht\"),\n",
    "                     names_to = \"wol_height\",\n",
    "                     values_to = \"height\") |>\n",
    "    pivot_longer(cols = c(\"winner_age\", \"loser_age\"),\n",
    "                     names_to = \"wol_age\",)\n",
    "\n",
    "# Filtering all NA data in surface\n",
    "tennis_filtered <- tennis_pivot |>\n",
    "                    drop_na() |>\n",
    "                    filter(surface != \"None\")\n",
    "print(\"Table 2: The first 10 columns of the dataset after the data has been tidied and wrangled.\")\n",
    "head(tennis_filtered, 10) # Displaying the top 10 columns."
   ]
  },
  {
   "cell_type": "markdown",
   "id": "a6e4149c-92ed-4382-86a2-f60c6ae73f7c",
   "metadata": {},
   "source": [
    "We cleaned and wrangled the data by selecting only the columns we required for our data analysis and by combining the columns for winner rank and loser rank.  We did the same for the columns that contained information on the winner and loser's age and height.  \n"
   ]
  },
  {
   "cell_type": "code",
   "execution_count": 10,
   "id": "510988d9-e9ea-4ef3-aad6-dafe3a17f5a4",
   "metadata": {},
   "outputs": [
    {
     "ename": "ERROR",
     "evalue": "\u001b[1m\u001b[33mError\u001b[39m in \u001b[1m\u001b[1m`summarize()`:\u001b[22m\n\u001b[1m\u001b[22m\u001b[33m!\u001b[39m Problem while computing `mean_age = mean(age, na.rm = TRUE)`.\n\u001b[36mℹ\u001b[39m The error occurred in group 1: rank = 1, surface = \"Clay\".\n\u001b[1mCaused by error in \u001b[1m\u001b[1m`mean()`:\u001b[22m\n\u001b[33m!\u001b[39m object 'age' not found\n",
     "output_type": "error",
     "traceback": [
      "\u001b[1m\u001b[33mError\u001b[39m in \u001b[1m\u001b[1m`summarize()`:\u001b[22m\n\u001b[1m\u001b[22m\u001b[33m!\u001b[39m Problem while computing `mean_age = mean(age, na.rm = TRUE)`.\n\u001b[36mℹ\u001b[39m The error occurred in group 1: rank = 1, surface = \"Clay\".\n\u001b[1mCaused by error in \u001b[1m\u001b[1m`mean()`:\u001b[22m\n\u001b[33m!\u001b[39m object 'age' not found\nTraceback:\n",
      "1. summarize(group_by(tennis_filtered, rank, surface), mean_ht = mean(height, \n .     na.rm = TRUE), mean_age = mean(age, na.rm = TRUE))",
      "2. summarise.grouped_df(group_by(tennis_filtered, rank, surface), \n .     mean_ht = mean(height, na.rm = TRUE), mean_age = mean(age, \n .         na.rm = TRUE))",
      "3. summarise_cols(.data, dplyr_quosures(...), caller_env = caller_env())",
      "4. withCallingHandlers({\n .     for (i in seq_along(dots)) {\n .         context_poke(\"column\", old_current_column)\n .         quosures <- expand_across(dots[[i]])\n .         quosures_results <- map(quosures, summarise_eval_one, \n .             mask = mask)\n .         for (k in seq_along(quosures)) {\n .             quo <- quosures[[k]]\n .             quo_data <- attr(quo, \"dplyr:::data\")\n .             quo_result <- quosures_results[[k]]\n .             if (is.null(quo_result)) {\n .                 next\n .             }\n .             types_k <- quo_result$types\n .             chunks_k <- quo_result$chunks\n .             results_k <- quo_result$results\n .             if (!quo_data$is_named && is.data.frame(types_k)) {\n .                 chunks_extracted <- .Call(dplyr_extract_chunks, \n .                   chunks_k, types_k)\n .                 types_k_names <- names(types_k)\n .                 for (j in seq_along(chunks_extracted)) {\n .                   mask$add_one(name = types_k_names[j], chunks = chunks_extracted[[j]], \n .                     result = results_k[[j]])\n .                 }\n .                 chunks <- append(chunks, chunks_extracted)\n .                 types <- append(types, as.list(types_k))\n .                 results <- append(results, results_k)\n .                 out_names <- c(out_names, types_k_names)\n .             }\n .             else {\n .                 name <- quo_data$name_auto\n .                 mask$add_one(name = name, chunks = chunks_k, \n .                   result = results_k)\n .                 chunks <- append(chunks, list(chunks_k))\n .                 types <- append(types, list(types_k))\n .                 results <- append(results, list(results_k))\n .                 out_names <- c(out_names, name)\n .             }\n .         }\n .     }\n .     recycle_info <- .Call(dplyr_summarise_recycle_chunks, chunks, \n .         mask$get_rows(), types, results)\n .     chunks <- recycle_info$chunks\n .     sizes <- recycle_info$sizes\n .     results <- recycle_info$results\n .     for (i in seq_along(chunks)) {\n .         result <- results[[i]] %||% vec_c(!!!chunks[[i]], .ptype = types[[i]])\n .         cols[[out_names[i]]] <- result\n .     }\n . }, error = function(e) {\n .     what <- \"computing\"\n .     index <- i\n .     if (inherits(e, \"dplyr:::summarise_incompatible_size\")) {\n .         index <- e$dplyr_error_data$index\n .         what <- \"recycling\"\n .     }\n .     local_error_context(dots = dots, .index = index, mask = mask)\n .     bullets <- c(cnd_bullet_header(what), summarise_bullets(e))\n .     abort(bullets, call = error_call, parent = skip_internal_condition(e))\n . })",
      "5. map(quosures, summarise_eval_one, mask = mask)",
      "6. lapply(.x, .f, ...)",
      "7. FUN(X[[i]], ...)",
      "8. mask$eval_all_summarise(quo)",
      "9. mean(age, na.rm = TRUE)",
      "10. .handleSimpleError(function (e) \n  . {\n  .     what <- \"computing\"\n  .     index <- i\n  .     if (inherits(e, \"dplyr:::summarise_incompatible_size\")) {\n  .         index <- e$dplyr_error_data$index\n  .         what <- \"recycling\"\n  .     }\n  .     local_error_context(dots = dots, .index = index, mask = mask)\n  .     bullets <- c(cnd_bullet_header(what), summarise_bullets(e))\n  .     abort(bullets, call = error_call, parent = skip_internal_condition(e))\n  . }, \"object 'age' not found\", base::quote(mean(age, na.rm = TRUE)))",
      "11. h(simpleError(msg, call))",
      "12. abort(bullets, call = error_call, parent = skip_internal_condition(e))",
      "13. signal_abort(cnd, .file)"
     ]
    }
   ],
   "source": [
    "# Groupping by rank, surface, and hand, then finding mean height and age.\n",
    "tennis_mean <- tennis_filtered|>\n",
    "    group_by(rank,surface) |>\n",
    "    summarize(mean_ht = mean(height, na.rm = TRUE), mean_age = mean(age, na.rm = TRUE))\n",
    "# Displaying only the top 10 columns due to space constraints:\n",
    "print(\"Table 3: The dataset after groupping by rank, surface, and hand of player, and with mean height and age.\")\n",
    "head(tennis_mean, 10)"
   ]
  },
  {
   "cell_type": "code",
   "execution_count": null,
   "id": "f386ecc9-c9a1-4a55-9108-b72701cc73c7",
   "metadata": {},
   "outputs": [],
   "source": [
    "# Splitting our data 75/25 into training and testing data:\n",
    "tennis_split <- initial_split(tennis_mean, prop = 0.75, strata = rank )\n",
    "tennis_training <- training(tennis_split)\n",
    "tennis_testing <- testing(tennis_split)"
   ]
  },
  {
   "cell_type": "code",
   "execution_count": null,
   "id": "63653261-e61d-4687-b949-dd21cab7c759",
   "metadata": {},
   "outputs": [],
   "source": [
    "print(\"Table 4: The training data used in this data analysis, consisting of 25% of the original dataset.\")\n",
    "head(tennis_training)"
   ]
  },
  {
   "cell_type": "markdown",
   "id": "5b53715a-62c9-4a8a-93b0-b650363d5115",
   "metadata": {},
   "source": [
    "We split the data into training and testing sets (using a 75/25 split)."
   ]
  },
  {
   "cell_type": "code",
   "execution_count": null,
   "id": "fe353d2f-c0d0-4ad0-8165-b4f89fbda5a9",
   "metadata": {},
   "outputs": [],
   "source": [
    "# Plotting rank against mean age:\n",
    "options(repr.plot.width = 18, repr.plot.height = 7)\n",
    "rank_vs_age_plot <- tennis_training|>\n",
    "    filter(surface == \"Clay\"| surface == \"Grass\"| surface == \"Hard\")|>\n",
    "    ggplot(aes(x=mean_age, y=rank, color = surface))+\n",
    "    geom_point() +\n",
    "    labs(x = \"Mean Age (years)\", y = \"Rank\", color = \"Surface\") +\n",
    "    ggtitle(\"Figure 2: Plot of rank against mean age in years\")+\n",
    "    theme(text=element_text(size = 15))\n",
    "\n",
    "# Plotting height against mean age:\n",
    "rank_vs_height_plot<- tennis_training|>\n",
    "    filter(surface == \"Clay\"| surface == \"Grass\"| surface == \"Hard\")|>\n",
    "    ggplot(aes(x=mean_ht, y=rank, color = surface))+\n",
    "    geom_point() +\n",
    "    labs(x = \"Mean Height (cm)\", y = \"Rank\", colour = \"Surface\") +\n",
    "    ggtitle(\"Figure 1: Plot of rank against mean height in cm\")+\n",
    "    theme(text=element_text(size = 15))\n",
    "# use plot grid\n",
    "tennis_plots <- plot_grid(rank_vs_height_plot, rank_vs_age_plot)\n",
    "tennis_plots"
   ]
  },
  {
   "cell_type": "markdown",
   "id": "1649964a-5aec-42e3-8e5f-d1815e955e71",
   "metadata": {},
   "source": [
    "We then used two plots to visualise the relationship between height and rank and the relationship between age and rank.  We coloured the data points by the surface of the court so that we could see if the type of court played a role.  "
   ]
  },
  {
   "cell_type": "code",
   "execution_count": null,
   "id": "1cf538dd-eb62-4680-b584-b74ed2136e30",
   "metadata": {},
   "outputs": [],
   "source": [
    "# Creating a workflow for further data analysis and prediction using regression:\n",
    "tennis_spec <- nearest_neighbor(weight_func = \"rectangular\", neighbors = tune()) |> \n",
    "                  set_engine(\"kknn\") |>\n",
    "                  set_mode(\"regression\") \n",
    "\n",
    "tennis_recipe <- recipe(rank ~ mean_ht + mean_age, data = tennis_training) |>\n",
    "                  step_scale(all_predictors()) |>\n",
    "                  step_center(all_predictors())\n",
    "\n",
    "tennis_workflow <- workflow() |>\n",
    "                    add_recipe(tennis_recipe) |>\n",
    "                    add_model(tennis_spec)\n",
    "tennis_workflow"
   ]
  },
  {
   "cell_type": "code",
   "execution_count": null,
   "id": "1e6c4606-81c1-44bc-ac9c-74567cd73d78",
   "metadata": {},
   "outputs": [],
   "source": [
    "set.seed(0004)\n",
    "gridvals <- tibble(neighbors = 1:200)\n",
    "tennis_vfold <- vfold_cv(tennis_training, v=10, strata = rank)\n",
    "tennis_k_value <- tennis_workflow|>\n",
    "    tune_grid(resamples = tennis_vfold, grid = gridvals)|>\n",
    "    collect_metrics()|>\n",
    "    filter(.metric == \"rmse\")|>\n",
    "    filter(mean == min(mean))|>\n",
    "    pull(neighbors)\n",
    "    \n",
    "tennis_k_value"
   ]
  },
  {
   "cell_type": "markdown",
   "id": "c5400d19-bba3-421c-a435-d1fc84ae128f",
   "metadata": {},
   "source": [
    "We used cross-validation with 10 folds and 200 values of K to find the best value of K.  We found that the optimal value of K was 45. "
   ]
  },
  {
   "cell_type": "code",
   "execution_count": null,
   "id": "2250f93b-5c35-4b29-a5b6-2050e1d10f49",
   "metadata": {},
   "outputs": [],
   "source": [
    "tennis_spec_best <- nearest_neighbor(weight_func = \"rectangular\", neighbors = tennis_k_value) |> \n",
    "                  set_engine(\"kknn\") |>\n",
    "                  set_mode(\"regression\") \n",
    "tennis_fit <- workflow()|>\n",
    "    add_recipe(tennis_recipe)|>\n",
    "    add_model(tennis_spec_best)|>\n",
    "    fit(data = tennis_training)\n",
    "tennis_fit"
   ]
  },
  {
   "cell_type": "markdown",
   "id": "50061995-d773-4460-a476-c620e7707869",
   "metadata": {},
   "source": [
    "We created a new model and workflow using our optimal value of K and fit this to our training data.  "
   ]
  },
  {
   "cell_type": "code",
   "execution_count": null,
   "id": "e98e2ca5-51bb-46a6-9e2f-4b42ecdb9ccc",
   "metadata": {},
   "outputs": [],
   "source": [
    "tennis_accuracy <- tennis_fit |>\n",
    "    predict(tennis_testing)|>\n",
    "    bind_cols(tennis_testing)\n",
    "head(tennis_accuracy)\n",
    "\n",
    "tennis_summary <- tennis_accuracy |>\n",
    "    metrics(truth = rank, estimate = .pred)|>\n",
    "    filter(.metric == \"rmse\")\n",
    "print(\"Table 5: The RMSPE value of our predictive model.\")\n",
    "tennis_summary"
   ]
  },
  {
   "cell_type": "markdown",
   "id": "fa7184f6-9519-4f65-b6c9-93a0afecf1fb",
   "metadata": {},
   "source": [
    "We used our new model to predict the rank of our testing data and also computed its RMSPE which was: 180.57"
   ]
  },
  {
   "cell_type": "code",
   "execution_count": null,
   "id": "b6a9cb83-7928-469d-8bbf-adfe514e5e52",
   "metadata": {},
   "outputs": [],
   "source": [
    "ht_rank_accuracy <- tennis_accuracy |>\n",
    "    ggplot(aes(y = rank, x = mean_ht)) +\n",
    "        geom_point() +\n",
    "        geom_line(colour = \"blue\",\n",
    "                  mapping = aes(y = .pred, x = mean_ht)) +\n",
    "        labs(y = \"Rank\", x = \"Mean height (cm)\") +\n",
    "        ggtitle(\"Figure 3: Plot of mean height (cm) versus rank, with predicted ranks overlaid.\")\n",
    "ht_rank_accuracy\n",
    "\n",
    "ht_age_accuracy <- tennis_accuracy |>\n",
    "    ggplot(aes(y = rank, x = mean_age)) +\n",
    "        geom_point() +\n",
    "        geom_line(colour = \"blue\",\n",
    "                  mapping = aes(y = .pred, x = mean_age)) +\n",
    "        labs(y = \"Rank\", x = \"Mean age (years)\") +\n",
    "        ggtitle(\"Figure 4: Plot of mean age (years) versus rank, with predicted ranks overlaid.\")\n",
    "ht_age_accuracy"
   ]
  },
  {
   "cell_type": "markdown",
   "id": "dffd51bf-9fea-44f5-98ec-2b65f4001ec1",
   "metadata": {},
   "source": [
    "We made two plots to visualise our K-nearest neighbour algorithm for both predictors.  "
   ]
  },
  {
   "cell_type": "code",
   "execution_count": null,
   "id": "eb802852-92ac-4e01-b930-265621ddbfc5",
   "metadata": {},
   "outputs": [],
   "source": [
    "new_player <- tibble(mean_ht = 165, mean_age = 25)\n",
    "prediction <- tennis_fit|>\n",
    "    predict(new_player)\n",
    "prediction"
   ]
  },
  {
   "cell_type": "markdown",
   "id": "8c384c33-ed9e-4c36-84fe-8f084f5d9ba2",
   "metadata": {},
   "source": [
    "We added a new player with age: 25 and height: 165cm and predicted that their rank would be 332\n"
   ]
  },
  {
   "cell_type": "code",
   "execution_count": null,
   "id": "4bb1097b-aa3f-4ccd-89cb-c66b4ed5c254",
   "metadata": {},
   "outputs": [],
   "source": []
  }
 ],
 "metadata": {
  "kernelspec": {
   "display_name": "R",
   "language": "R",
   "name": "ir"
  },
  "language_info": {
   "codemirror_mode": "r",
   "file_extension": ".r",
   "mimetype": "text/x-r-source",
   "name": "R",
   "pygments_lexer": "r",
   "version": "4.1.3"
  }
 },
 "nbformat": 4,
 "nbformat_minor": 5
}
