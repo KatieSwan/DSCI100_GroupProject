{
 "cells": [
  {
   "cell_type": "markdown",
   "id": "412b17f9-c571-47d7-b363-33ab75f6bcae",
   "metadata": {},
   "source": [
    "This will be the file for our project report.  In this we will find the optimal value of K and then input a new player's stats in order to try and predict their rank."
   ]
  }
 ],
 "metadata": {
  "kernelspec": {
   "display_name": "R",
   "language": "R",
   "name": "ir"
  },
  "language_info": {
   "codemirror_mode": "r",
   "file_extension": ".r",
   "mimetype": "text/x-r-source",
   "name": "R",
   "pygments_lexer": "r",
   "version": "4.1.3"
  }
 },
 "nbformat": 4,
 "nbformat_minor": 5
}
