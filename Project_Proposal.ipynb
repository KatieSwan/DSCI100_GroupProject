{
 "cells": [
  {
   "cell_type": "markdown",
   "id": "ef6592ef-7032-41ba-8103-db5e9eab93e5",
   "metadata": {},
   "source": [
    "This will be our project proposal"
   ]
  },
  {
   "cell_type": "code",
   "execution_count": 1,
   "id": "f5cee191-f42e-46e2-b5dd-05d7e830530f",
   "metadata": {},
   "outputs": [
    {
     "name": "stderr",
     "output_type": "stream",
     "text": [
      "── \u001b[1mAttaching packages\u001b[22m ─────────────────────────────────────── tidyverse 1.3.1 ──\n",
      "\n",
      "\u001b[32m✔\u001b[39m \u001b[34mggplot2\u001b[39m 3.3.6     \u001b[32m✔\u001b[39m \u001b[34mpurrr  \u001b[39m 0.3.4\n",
      "\u001b[32m✔\u001b[39m \u001b[34mtibble \u001b[39m 3.1.7     \u001b[32m✔\u001b[39m \u001b[34mdplyr  \u001b[39m 1.0.9\n",
      "\u001b[32m✔\u001b[39m \u001b[34mtidyr  \u001b[39m 1.2.0     \u001b[32m✔\u001b[39m \u001b[34mstringr\u001b[39m 1.4.0\n",
      "\u001b[32m✔\u001b[39m \u001b[34mreadr  \u001b[39m 2.1.2     \u001b[32m✔\u001b[39m \u001b[34mforcats\u001b[39m 0.5.1\n",
      "\n",
      "── \u001b[1mConflicts\u001b[22m ────────────────────────────────────────── tidyverse_conflicts() ──\n",
      "\u001b[31m✖\u001b[39m \u001b[34mdplyr\u001b[39m::\u001b[32mfilter()\u001b[39m masks \u001b[34mstats\u001b[39m::filter()\n",
      "\u001b[31m✖\u001b[39m \u001b[34mdplyr\u001b[39m::\u001b[32mlag()\u001b[39m    masks \u001b[34mstats\u001b[39m::lag()\n",
      "\n",
      "── \u001b[1mAttaching packages\u001b[22m ────────────────────────────────────── tidymodels 1.0.0 ──\n",
      "\n",
      "\u001b[32m✔\u001b[39m \u001b[34mbroom       \u001b[39m 1.0.0     \u001b[32m✔\u001b[39m \u001b[34mrsample     \u001b[39m 1.0.0\n",
      "\u001b[32m✔\u001b[39m \u001b[34mdials       \u001b[39m 1.0.0     \u001b[32m✔\u001b[39m \u001b[34mtune        \u001b[39m 1.0.0\n",
      "\u001b[32m✔\u001b[39m \u001b[34minfer       \u001b[39m 1.0.2     \u001b[32m✔\u001b[39m \u001b[34mworkflows   \u001b[39m 1.0.0\n",
      "\u001b[32m✔\u001b[39m \u001b[34mmodeldata   \u001b[39m 1.0.0     \u001b[32m✔\u001b[39m \u001b[34mworkflowsets\u001b[39m 1.0.0\n",
      "\u001b[32m✔\u001b[39m \u001b[34mparsnip     \u001b[39m 1.0.0     \u001b[32m✔\u001b[39m \u001b[34myardstick   \u001b[39m 1.0.0\n",
      "\u001b[32m✔\u001b[39m \u001b[34mrecipes     \u001b[39m 1.0.1     \n",
      "\n",
      "── \u001b[1mConflicts\u001b[22m ───────────────────────────────────────── tidymodels_conflicts() ──\n",
      "\u001b[31m✖\u001b[39m \u001b[34mscales\u001b[39m::\u001b[32mdiscard()\u001b[39m masks \u001b[34mpurrr\u001b[39m::discard()\n",
      "\u001b[31m✖\u001b[39m \u001b[34mdplyr\u001b[39m::\u001b[32mfilter()\u001b[39m   masks \u001b[34mstats\u001b[39m::filter()\n",
      "\u001b[31m✖\u001b[39m \u001b[34mrecipes\u001b[39m::\u001b[32mfixed()\u001b[39m  masks \u001b[34mstringr\u001b[39m::fixed()\n",
      "\u001b[31m✖\u001b[39m \u001b[34mdplyr\u001b[39m::\u001b[32mlag()\u001b[39m      masks \u001b[34mstats\u001b[39m::lag()\n",
      "\u001b[31m✖\u001b[39m \u001b[34myardstick\u001b[39m::\u001b[32mspec()\u001b[39m masks \u001b[34mreadr\u001b[39m::spec()\n",
      "\u001b[31m✖\u001b[39m \u001b[34mrecipes\u001b[39m::\u001b[32mstep()\u001b[39m   masks \u001b[34mstats\u001b[39m::step()\n",
      "\u001b[34m•\u001b[39m Use \u001b[32mtidymodels_prefer()\u001b[39m to resolve common conflicts.\n",
      "\n"
     ]
    }
   ],
   "source": [
    "library(tidyverse)\n",
    "library(repr)\n",
    "library(tidymodels)"
   ]
  },
  {
   "cell_type": "code",
   "execution_count": 2,
   "id": "c9a17368-6e8a-471c-a45d-ffb97b371338",
   "metadata": {},
   "outputs": [
    {
     "name": "stderr",
     "output_type": "stream",
     "text": [
      "\u001b[1m\u001b[22mNew names:\n",
      "\u001b[36m•\u001b[39m `` -> `...1`\n",
      "\u001b[1mRows: \u001b[22m\u001b[34m6866\u001b[39m \u001b[1mColumns: \u001b[22m\u001b[34m50\u001b[39m\n",
      "\u001b[36m──\u001b[39m \u001b[1mColumn specification\u001b[22m \u001b[36m────────────────────────────────────────────────────────\u001b[39m\n",
      "\u001b[1mDelimiter:\u001b[22m \",\"\n",
      "\u001b[31mchr\u001b[39m (16): tourney_id, tourney_name, surface, tourney_level, winner_seed, win...\n",
      "\u001b[32mdbl\u001b[39m (34): ...1, draw_size, tourney_date, match_num, winner_id, winner_ht, wi...\n",
      "\n",
      "\u001b[36mℹ\u001b[39m Use `spec()` to retrieve the full column specification for this data.\n",
      "\u001b[36mℹ\u001b[39m Specify the column types or set `show_col_types = FALSE` to quiet this message.\n"
     ]
    }
   ],
   "source": [
    "tennis <- read_csv(\"Tennis_Stats_Data.csv\")\n",
    "#tennis "
   ]
  },
  {
   "cell_type": "markdown",
   "id": "aa00988b-fa70-4e05-8fbc-465422d7e01d",
   "metadata": {},
   "source": [
    "Used Variables:\n",
    "\n",
    "First Column (which we will rename ID_Num),\n",
    "Height,\n",
    "Age,\n",
    "Hand,\n",
    "Rank,\n",
    "Ace,\n",
    "Double Faults (df),\n",
    "Surface\n",
    "\n",
    "75% Training 25% Testing"
   ]
  },
  {
   "cell_type": "code",
   "execution_count": 11,
   "id": "c50228f2-5987-4d6e-a6bf-718a44df81ca",
   "metadata": {},
   "outputs": [
    {
     "data": {
      "text/html": [
       "<table class=\"dataframe\">\n",
       "<caption>A tibble: 10 × 8</caption>\n",
       "<thead>\n",
       "\t<tr><th scope=col>ID_num</th><th scope=col>winner_hand</th><th scope=col>winner_ht</th><th scope=col>winner_age</th><th scope=col>w_ace</th><th scope=col>w_df</th><th scope=col>winner_rank</th><th scope=col>surface</th></tr>\n",
       "\t<tr><th scope=col>&lt;fct&gt;</th><th scope=col>&lt;fct&gt;</th><th scope=col>&lt;dbl&gt;</th><th scope=col>&lt;dbl&gt;</th><th scope=col>&lt;dbl&gt;</th><th scope=col>&lt;dbl&gt;</th><th scope=col>&lt;fct&gt;</th><th scope=col>&lt;chr&gt;</th></tr>\n",
       "</thead>\n",
       "<tbody>\n",
       "\t<tr><td>0</td><td>R</td><td>178</td><td>29.00479</td><td> 3</td><td>3</td><td>9  </td><td>Hard</td></tr>\n",
       "\t<tr><td>1</td><td>R</td><td> NA</td><td>22.88569</td><td>10</td><td>1</td><td>16 </td><td>Hard</td></tr>\n",
       "\t<tr><td>2</td><td>R</td><td>178</td><td>29.00479</td><td> 2</td><td>2</td><td>9  </td><td>Hard</td></tr>\n",
       "\t<tr><td>3</td><td>R</td><td>188</td><td>33.70568</td><td>12</td><td>2</td><td>239</td><td>Hard</td></tr>\n",
       "\t<tr><td>4</td><td>R</td><td> NA</td><td>22.88569</td><td>12</td><td>3</td><td>16 </td><td>Hard</td></tr>\n",
       "\t<tr><td>5</td><td>R</td><td>188</td><td>31.88227</td><td>10</td><td>8</td><td>40 </td><td>Hard</td></tr>\n",
       "\t<tr><td>6</td><td>R</td><td>178</td><td>29.00479</td><td> 5</td><td>2</td><td>9  </td><td>Hard</td></tr>\n",
       "\t<tr><td>7</td><td>R</td><td>188</td><td>33.70568</td><td>11</td><td>3</td><td>239</td><td>Hard</td></tr>\n",
       "\t<tr><td>8</td><td>R</td><td> NA</td><td>19.86858</td><td> 1</td><td>1</td><td>31 </td><td>Hard</td></tr>\n",
       "\t<tr><td>9</td><td>R</td><td> NA</td><td>22.88569</td><td>16</td><td>2</td><td>16 </td><td>Hard</td></tr>\n",
       "</tbody>\n",
       "</table>\n"
      ],
      "text/latex": [
       "A tibble: 10 × 8\n",
       "\\begin{tabular}{llllllll}\n",
       " ID\\_num & winner\\_hand & winner\\_ht & winner\\_age & w\\_ace & w\\_df & winner\\_rank & surface\\\\\n",
       " <fct> & <fct> & <dbl> & <dbl> & <dbl> & <dbl> & <fct> & <chr>\\\\\n",
       "\\hline\n",
       "\t 0 & R & 178 & 29.00479 &  3 & 3 & 9   & Hard\\\\\n",
       "\t 1 & R &  NA & 22.88569 & 10 & 1 & 16  & Hard\\\\\n",
       "\t 2 & R & 178 & 29.00479 &  2 & 2 & 9   & Hard\\\\\n",
       "\t 3 & R & 188 & 33.70568 & 12 & 2 & 239 & Hard\\\\\n",
       "\t 4 & R &  NA & 22.88569 & 12 & 3 & 16  & Hard\\\\\n",
       "\t 5 & R & 188 & 31.88227 & 10 & 8 & 40  & Hard\\\\\n",
       "\t 6 & R & 178 & 29.00479 &  5 & 2 & 9   & Hard\\\\\n",
       "\t 7 & R & 188 & 33.70568 & 11 & 3 & 239 & Hard\\\\\n",
       "\t 8 & R &  NA & 19.86858 &  1 & 1 & 31  & Hard\\\\\n",
       "\t 9 & R &  NA & 22.88569 & 16 & 2 & 16  & Hard\\\\\n",
       "\\end{tabular}\n"
      ],
      "text/markdown": [
       "\n",
       "A tibble: 10 × 8\n",
       "\n",
       "| ID_num &lt;fct&gt; | winner_hand &lt;fct&gt; | winner_ht &lt;dbl&gt; | winner_age &lt;dbl&gt; | w_ace &lt;dbl&gt; | w_df &lt;dbl&gt; | winner_rank &lt;fct&gt; | surface &lt;chr&gt; |\n",
       "|---|---|---|---|---|---|---|---|\n",
       "| 0 | R | 178 | 29.00479 |  3 | 3 | 9   | Hard |\n",
       "| 1 | R |  NA | 22.88569 | 10 | 1 | 16  | Hard |\n",
       "| 2 | R | 178 | 29.00479 |  2 | 2 | 9   | Hard |\n",
       "| 3 | R | 188 | 33.70568 | 12 | 2 | 239 | Hard |\n",
       "| 4 | R |  NA | 22.88569 | 12 | 3 | 16  | Hard |\n",
       "| 5 | R | 188 | 31.88227 | 10 | 8 | 40  | Hard |\n",
       "| 6 | R | 178 | 29.00479 |  5 | 2 | 9   | Hard |\n",
       "| 7 | R | 188 | 33.70568 | 11 | 3 | 239 | Hard |\n",
       "| 8 | R |  NA | 19.86858 |  1 | 1 | 31  | Hard |\n",
       "| 9 | R |  NA | 22.88569 | 16 | 2 | 16  | Hard |\n",
       "\n"
      ],
      "text/plain": [
       "   ID_num winner_hand winner_ht winner_age w_ace w_df winner_rank surface\n",
       "1  0      R           178       29.00479    3    3    9           Hard   \n",
       "2  1      R            NA       22.88569   10    1    16          Hard   \n",
       "3  2      R           178       29.00479    2    2    9           Hard   \n",
       "4  3      R           188       33.70568   12    2    239         Hard   \n",
       "5  4      R            NA       22.88569   12    3    16          Hard   \n",
       "6  5      R           188       31.88227   10    8    40          Hard   \n",
       "7  6      R           178       29.00479    5    2    9           Hard   \n",
       "8  7      R           188       33.70568   11    3    239         Hard   \n",
       "9  8      R            NA       19.86858    1    1    31          Hard   \n",
       "10 9      R            NA       22.88569   16    2    16          Hard   "
      ]
     },
     "metadata": {},
     "output_type": "display_data"
    }
   ],
   "source": [
    "tennis_named <- tennis|>\n",
    "    rename(\"ID_num\" = 1 )\n",
    "\n",
    "tennis_smaller <- tennis_named|>\n",
    "    select(ID_num,winner_hand,winner_ht,winner_age,w_ace, w_df,\n",
    "                         winner_rank,surface)|>\n",
    "    mutate(ID_num = as_factor(ID_num), winner_hand = as_factor(winner_hand), winner_rank =\n",
    "          as_factor(winner_rank))\n",
    "tennis_smaller|>\n",
    "    slice(1:10)"
   ]
  },
  {
   "cell_type": "code",
   "execution_count": 9,
   "id": "f386ecc9-c9a1-4a55-9108-b72701cc73c7",
   "metadata": {},
   "outputs": [
    {
     "name": "stderr",
     "output_type": "stream",
     "text": [
      "Warning message:\n",
      "“Too little data to stratify.\n",
      "\u001b[36m•\u001b[39m Resampling will be unstratified.”\n"
     ]
    }
   ],
   "source": [
    "tennis_split <- initial_split(tennis_smaller, prop = 0.75, strata = winner_rank )\n",
    "tennis_training <- training(tennis_split)\n",
    "tennis_testing <- testing(tennis_split)"
   ]
  },
  {
   "cell_type": "code",
   "execution_count": 27,
   "id": "501a68fb-884a-48a4-a763-761ee28d833f",
   "metadata": {},
   "outputs": [
    {
     "ename": "ERROR",
     "evalue": "\u001b[1m\u001b[33mError\u001b[39m in \u001b[1m\u001b[1m`summarize()`:\u001b[22m\n\u001b[1m\u001b[22m\u001b[33m!\u001b[39m Problem while computing `..1 = mean()`.\n\u001b[36mℹ\u001b[39m The error occurred in group 1: winner_rank = 1.\n\u001b[1mCaused by error in \u001b[1m\u001b[1m`mean.default()`:\u001b[22m\n\u001b[33m!\u001b[39m argument \"x\" is missing, with no default\n",
     "output_type": "error",
     "traceback": [
      "\u001b[1m\u001b[33mError\u001b[39m in \u001b[1m\u001b[1m`summarize()`:\u001b[22m\n\u001b[1m\u001b[22m\u001b[33m!\u001b[39m Problem while computing `..1 = mean()`.\n\u001b[36mℹ\u001b[39m The error occurred in group 1: winner_rank = 1.\n\u001b[1mCaused by error in \u001b[1m\u001b[1m`mean.default()`:\u001b[22m\n\u001b[33m!\u001b[39m argument \"x\" is missing, with no default\nTraceback:\n",
      "1. summarize(group_by(tennis_training, winner_rank), mean())",
      "2. summarise.grouped_df(group_by(tennis_training, winner_rank), \n .     mean())",
      "3. summarise_cols(.data, dplyr_quosures(...), caller_env = caller_env())",
      "4. withCallingHandlers({\n .     for (i in seq_along(dots)) {\n .         context_poke(\"column\", old_current_column)\n .         quosures <- expand_across(dots[[i]])\n .         quosures_results <- map(quosures, summarise_eval_one, \n .             mask = mask)\n .         for (k in seq_along(quosures)) {\n .             quo <- quosures[[k]]\n .             quo_data <- attr(quo, \"dplyr:::data\")\n .             quo_result <- quosures_results[[k]]\n .             if (is.null(quo_result)) {\n .                 next\n .             }\n .             types_k <- quo_result$types\n .             chunks_k <- quo_result$chunks\n .             results_k <- quo_result$results\n .             if (!quo_data$is_named && is.data.frame(types_k)) {\n .                 chunks_extracted <- .Call(dplyr_extract_chunks, \n .                   chunks_k, types_k)\n .                 types_k_names <- names(types_k)\n .                 for (j in seq_along(chunks_extracted)) {\n .                   mask$add_one(name = types_k_names[j], chunks = chunks_extracted[[j]], \n .                     result = results_k[[j]])\n .                 }\n .                 chunks <- append(chunks, chunks_extracted)\n .                 types <- append(types, as.list(types_k))\n .                 results <- append(results, results_k)\n .                 out_names <- c(out_names, types_k_names)\n .             }\n .             else {\n .                 name <- quo_data$name_auto\n .                 mask$add_one(name = name, chunks = chunks_k, \n .                   result = results_k)\n .                 chunks <- append(chunks, list(chunks_k))\n .                 types <- append(types, list(types_k))\n .                 results <- append(results, list(results_k))\n .                 out_names <- c(out_names, name)\n .             }\n .         }\n .     }\n .     recycle_info <- .Call(dplyr_summarise_recycle_chunks, chunks, \n .         mask$get_rows(), types, results)\n .     chunks <- recycle_info$chunks\n .     sizes <- recycle_info$sizes\n .     results <- recycle_info$results\n .     for (i in seq_along(chunks)) {\n .         result <- results[[i]] %||% vec_c(!!!chunks[[i]], .ptype = types[[i]])\n .         cols[[out_names[i]]] <- result\n .     }\n . }, error = function(e) {\n .     what <- \"computing\"\n .     index <- i\n .     if (inherits(e, \"dplyr:::summarise_incompatible_size\")) {\n .         index <- e$dplyr_error_data$index\n .         what <- \"recycling\"\n .     }\n .     local_error_context(dots = dots, .index = index, mask = mask)\n .     bullets <- c(cnd_bullet_header(what), summarise_bullets(e))\n .     abort(bullets, call = error_call, parent = skip_internal_condition(e))\n . })",
      "5. map(quosures, summarise_eval_one, mask = mask)",
      "6. lapply(.x, .f, ...)",
      "7. FUN(X[[i]], ...)",
      "8. mask$eval_all_summarise(quo)",
      "9. mean()",
      "10. mean.default()",
      "11. .handleSimpleError(function (e) \n  . {\n  .     what <- \"computing\"\n  .     index <- i\n  .     if (inherits(e, \"dplyr:::summarise_incompatible_size\")) {\n  .         index <- e$dplyr_error_data$index\n  .         what <- \"recycling\"\n  .     }\n  .     local_error_context(dots = dots, .index = index, mask = mask)\n  .     bullets <- c(cnd_bullet_header(what), summarise_bullets(e))\n  .     abort(bullets, call = error_call, parent = skip_internal_condition(e))\n  . }, \"argument \\\"x\\\" is missing, with no default\", base::quote(mean.default()))",
      "12. h(simpleError(msg, call))",
      "13. abort(bullets, call = error_call, parent = skip_internal_condition(e))",
      "14. signal_abort(cnd, .file)"
     ]
    }
   ],
   "source": [
    "tennis_training|>\n",
    "    group_by(winner_rank, surface)|>\n",
    "    summarize(mean())"
   ]
  },
  {
   "cell_type": "code",
   "execution_count": null,
   "id": "63653261-e61d-4687-b949-dd21cab7c759",
   "metadata": {},
   "outputs": [],
   "source": []
  }
 ],
 "metadata": {
  "kernelspec": {
   "display_name": "R",
   "language": "R",
   "name": "ir"
  },
  "language_info": {
   "codemirror_mode": "r",
   "file_extension": ".r",
   "mimetype": "text/x-r-source",
   "name": "R",
   "pygments_lexer": "r",
   "version": "4.1.3"
  }
 },
 "nbformat": 4,
 "nbformat_minor": 5
}
