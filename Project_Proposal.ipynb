{
 "cells": [
  {
   "cell_type": "markdown",
   "id": "ef6592ef-7032-41ba-8103-db5e9eab93e5",
   "metadata": {},
   "source": [
    "This will be our project proposal"
   ]
  },
  {
   "cell_type": "code",
   "execution_count": 1,
   "id": "f5cee191-f42e-46e2-b5dd-05d7e830530f",
   "metadata": {},
   "outputs": [
    {
     "name": "stderr",
     "output_type": "stream",
     "text": [
      "── \u001b[1mAttaching packages\u001b[22m ─────────────────────────────────────── tidyverse 1.3.1 ──\n",
      "\n",
      "\u001b[32m✔\u001b[39m \u001b[34mggplot2\u001b[39m 3.3.6     \u001b[32m✔\u001b[39m \u001b[34mpurrr  \u001b[39m 0.3.4\n",
      "\u001b[32m✔\u001b[39m \u001b[34mtibble \u001b[39m 3.1.7     \u001b[32m✔\u001b[39m \u001b[34mdplyr  \u001b[39m 1.0.9\n",
      "\u001b[32m✔\u001b[39m \u001b[34mtidyr  \u001b[39m 1.2.0     \u001b[32m✔\u001b[39m \u001b[34mstringr\u001b[39m 1.4.0\n",
      "\u001b[32m✔\u001b[39m \u001b[34mreadr  \u001b[39m 2.1.2     \u001b[32m✔\u001b[39m \u001b[34mforcats\u001b[39m 0.5.1\n",
      "\n",
      "── \u001b[1mConflicts\u001b[22m ────────────────────────────────────────── tidyverse_conflicts() ──\n",
      "\u001b[31m✖\u001b[39m \u001b[34mdplyr\u001b[39m::\u001b[32mfilter()\u001b[39m masks \u001b[34mstats\u001b[39m::filter()\n",
      "\u001b[31m✖\u001b[39m \u001b[34mdplyr\u001b[39m::\u001b[32mlag()\u001b[39m    masks \u001b[34mstats\u001b[39m::lag()\n",
      "\n",
      "── \u001b[1mAttaching packages\u001b[22m ────────────────────────────────────── tidymodels 1.0.0 ──\n",
      "\n",
      "\u001b[32m✔\u001b[39m \u001b[34mbroom       \u001b[39m 1.0.0     \u001b[32m✔\u001b[39m \u001b[34mrsample     \u001b[39m 1.0.0\n",
      "\u001b[32m✔\u001b[39m \u001b[34mdials       \u001b[39m 1.0.0     \u001b[32m✔\u001b[39m \u001b[34mtune        \u001b[39m 1.0.0\n",
      "\u001b[32m✔\u001b[39m \u001b[34minfer       \u001b[39m 1.0.2     \u001b[32m✔\u001b[39m \u001b[34mworkflows   \u001b[39m 1.0.0\n",
      "\u001b[32m✔\u001b[39m \u001b[34mmodeldata   \u001b[39m 1.0.0     \u001b[32m✔\u001b[39m \u001b[34mworkflowsets\u001b[39m 1.0.0\n",
      "\u001b[32m✔\u001b[39m \u001b[34mparsnip     \u001b[39m 1.0.0     \u001b[32m✔\u001b[39m \u001b[34myardstick   \u001b[39m 1.0.0\n",
      "\u001b[32m✔\u001b[39m \u001b[34mrecipes     \u001b[39m 1.0.1     \n",
      "\n",
      "── \u001b[1mConflicts\u001b[22m ───────────────────────────────────────── tidymodels_conflicts() ──\n",
      "\u001b[31m✖\u001b[39m \u001b[34mscales\u001b[39m::\u001b[32mdiscard()\u001b[39m masks \u001b[34mpurrr\u001b[39m::discard()\n",
      "\u001b[31m✖\u001b[39m \u001b[34mdplyr\u001b[39m::\u001b[32mfilter()\u001b[39m   masks \u001b[34mstats\u001b[39m::filter()\n",
      "\u001b[31m✖\u001b[39m \u001b[34mrecipes\u001b[39m::\u001b[32mfixed()\u001b[39m  masks \u001b[34mstringr\u001b[39m::fixed()\n",
      "\u001b[31m✖\u001b[39m \u001b[34mdplyr\u001b[39m::\u001b[32mlag()\u001b[39m      masks \u001b[34mstats\u001b[39m::lag()\n",
      "\u001b[31m✖\u001b[39m \u001b[34myardstick\u001b[39m::\u001b[32mspec()\u001b[39m masks \u001b[34mreadr\u001b[39m::spec()\n",
      "\u001b[31m✖\u001b[39m \u001b[34mrecipes\u001b[39m::\u001b[32mstep()\u001b[39m   masks \u001b[34mstats\u001b[39m::step()\n",
      "\u001b[34m•\u001b[39m Use \u001b[32mtidymodels_prefer()\u001b[39m to resolve common conflicts.\n",
      "\n"
     ]
    }
   ],
   "source": [
    "library(tidyverse)\n",
    "library(repr)\n",
    "library(tidymodels)"
   ]
  },
  {
   "cell_type": "code",
   "execution_count": 29,
   "id": "c9a17368-6e8a-471c-a45d-ffb97b371338",
   "metadata": {},
   "outputs": [
    {
     "name": "stderr",
     "output_type": "stream",
     "text": [
      "\u001b[1m\u001b[22mNew names:\n",
      "\u001b[36m•\u001b[39m `` -> `...1`\n",
      "\u001b[1mRows: \u001b[22m\u001b[34m6866\u001b[39m \u001b[1mColumns: \u001b[22m\u001b[34m50\u001b[39m\n",
      "\u001b[36m──\u001b[39m \u001b[1mColumn specification\u001b[22m \u001b[36m────────────────────────────────────────────────────────\u001b[39m\n",
      "\u001b[1mDelimiter:\u001b[22m \",\"\n",
      "\u001b[31mchr\u001b[39m (16): tourney_id, tourney_name, surface, tourney_level, winner_seed, win...\n",
      "\u001b[32mdbl\u001b[39m (34): ...1, draw_size, tourney_date, match_num, winner_id, winner_ht, wi...\n",
      "\n",
      "\u001b[36mℹ\u001b[39m Use `spec()` to retrieve the full column specification for this data.\n",
      "\u001b[36mℹ\u001b[39m Specify the column types or set `show_col_types = FALSE` to quiet this message.\n"
     ]
    }
   ],
   "source": [
    "tennis <- read_csv(\"Tennis_Stats_Data.csv\")\n",
    "#tennis "
   ]
  },
  {
   "cell_type": "markdown",
   "id": "aa00988b-fa70-4e05-8fbc-465422d7e01d",
   "metadata": {},
   "source": [
    "Used Variables:\n",
    "\n",
    "First Column (which we will rename ID_Num),\n",
    "Height,\n",
    "Age,\n",
    "Hand,\n",
    "Rank,\n",
    "Ace,\n",
    "Double Faults (df),\n",
    "Surface\n",
    "\n",
    "75% Training 25% Testing"
   ]
  },
  {
   "cell_type": "code",
   "execution_count": 28,
   "id": "c50228f2-5987-4d6e-a6bf-718a44df81ca",
   "metadata": {},
   "outputs": [],
   "source": [
    "tennis_named <- tennis|>\n",
    "    rename(\"ID_num\" = 1 )\n",
    "\n",
    "tennis_smaller <- tennis_named|>\n",
    "    select(ID_num,winner_hand,winner_ht,winner_age,w_ace, w_df,\n",
    "                         winner_rank,surface)|>\n",
    "    mutate(ID_num = as_factor(ID_num), winner_hand = as_factor(winner_hand), winner_rank =\n",
    "          as_factor(winner_rank))\n",
    "#tennis_smaller"
   ]
  },
  {
   "cell_type": "code",
   "execution_count": 27,
   "id": "9eca4b74-5e12-4b74-8343-32b418766848",
   "metadata": {},
   "outputs": [],
   "source": [
    "tennis_hard <- tennis_smaller |>\n",
    "    filter(surface == \"Hard\")\n",
    "tennis_clay <- tennis_smaller |>\n",
    "    filter(surface == \"Clay\")\n",
    "tennis_grass <- tennis_smaller |>\n",
    "    filter(surface == \"Grass\")\n",
    "#tennis_hard\n",
    "#tennis_clay\n",
    "#tennis_grass"
   ]
  },
  {
   "cell_type": "code",
   "execution_count": null,
   "id": "f386ecc9-c9a1-4a55-9108-b72701cc73c7",
   "metadata": {},
   "outputs": [],
   "source": []
  }
 ],
 "metadata": {
  "kernelspec": {
   "display_name": "R",
   "language": "R",
   "name": "ir"
  },
  "language_info": {
   "codemirror_mode": "r",
   "file_extension": ".r",
   "mimetype": "text/x-r-source",
   "name": "R",
   "pygments_lexer": "r",
   "version": "4.1.3"
  }
 },
 "nbformat": 4,
 "nbformat_minor": 5
}
