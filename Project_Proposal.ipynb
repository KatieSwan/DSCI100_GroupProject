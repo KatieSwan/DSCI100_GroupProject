{
 "cells": [
  {
   "cell_type": "markdown",
   "id": "ef6592ef-7032-41ba-8103-db5e9eab93e5",
   "metadata": {},
   "source": [
    "Jonathan Chan (34466219), Erick Jovan Muljadi, Katie Swangard, Aurora Wang\n",
    "\n",
    "DSCI 100 004\n",
    "\n",
    "29 October 2022\n",
    "\n",
    "Group Project Proposal"
   ]
  },
  {
   "cell_type": "code",
   "execution_count": null,
   "id": "f5cee191-f42e-46e2-b5dd-05d7e830530f",
   "metadata": {},
   "outputs": [
    {
     "name": "stderr",
     "output_type": "stream",
     "text": [
      "── \u001b[1mAttaching packages\u001b[22m ─────────────────────────────────────── tidyverse 1.3.1 ──\n",
      "\n",
      "\u001b[32m✔\u001b[39m \u001b[34mggplot2\u001b[39m 3.3.6     \u001b[32m✔\u001b[39m \u001b[34mpurrr  \u001b[39m 0.3.4\n",
      "\u001b[32m✔\u001b[39m \u001b[34mtibble \u001b[39m 3.1.7     \u001b[32m✔\u001b[39m \u001b[34mdplyr  \u001b[39m 1.0.9\n",
      "\u001b[32m✔\u001b[39m \u001b[34mtidyr  \u001b[39m 1.2.0     \u001b[32m✔\u001b[39m \u001b[34mstringr\u001b[39m 1.4.0\n",
      "\u001b[32m✔\u001b[39m \u001b[34mreadr  \u001b[39m 2.1.2     \u001b[32m✔\u001b[39m \u001b[34mforcats\u001b[39m 0.5.1\n",
      "\n",
      "── \u001b[1mConflicts\u001b[22m ────────────────────────────────────────── tidyverse_conflicts() ──\n",
      "\u001b[31m✖\u001b[39m \u001b[34mdplyr\u001b[39m::\u001b[32mfilter()\u001b[39m masks \u001b[34mstats\u001b[39m::filter()\n",
      "\u001b[31m✖\u001b[39m \u001b[34mdplyr\u001b[39m::\u001b[32mlag()\u001b[39m    masks \u001b[34mstats\u001b[39m::lag()\n",
      "\n"
     ]
    }
   ],
   "source": [
    "# Loading in necessary libraries:\n",
    "library(tidyverse)\n",
    "library(repr)\n",
    "library(tidymodels)\n",
    "library(ggplot2)"
   ]
  },
  {
   "cell_type": "markdown",
   "id": "be533912-2911-460d-a7af-2066c8696640",
   "metadata": {},
   "source": [
    "**Background Information**\n",
    "\n",
    "ATP is a worldwide top-tier tennis tour for men organized by the Association of Tennis Professionals. \n",
    "\n",
    "The question we are trying to ask with our project is: based on three given characteristics of a new player (height, age and hand use), what ATP ranking will he achieve on each of the three different surfaces.\n",
    "\n",
    "We will use the dataset \"Match Results for Top 500 Players 2017-2019\". This data set includes the game statistics from the year 2017-2019 for tournaments. It contains the historical ranking, results and match statIstics of the top 500 players in the ATP ranking, as well as individual characteristics of the winners and losers of each match, such as height, age, and hand use. By analyzing the relationship between these characteristics and the winner’s ranking positions, we can predict the ranking of a new player on each of the three different surfaces based on his characteristics.\n"
   ]
  },
  {
   "cell_type": "code",
   "execution_count": null,
   "id": "c9a17368-6e8a-471c-a45d-ffb97b371338",
   "metadata": {},
   "outputs": [],
   "source": [
    "# Reading in our dataset:\n",
    "tennis <- read_csv(\"https://drive.google.com/uc?export=download&id=1fOQ8sy_qMkQiQEAO6uFdRX4tLI8EpSTn\")|>\n",
    "    rename(\"ID_num\" = 1)\n",
    "# As the whole dataset would be too large to display, we are only displaying the first 10 rows here.\n",
    "head(tennis, 10)"
   ]
  },
  {
   "cell_type": "code",
   "execution_count": null,
   "id": "e00f0a1a-165c-43cd-a0f6-223ff96b98ef",
   "metadata": {},
   "outputs": [],
   "source": [
    "# Selecting only for rows needed in our data analysis:\n",
    "tennis_smaller <- tennis|>\n",
    "    select(ID_num,winner_hand,winner_ht,winner_age, winner_rank,surface, loser_hand,loser_ht, loser_age, loser_rank)|>\n",
    "    mutate(ID_num = as_factor(ID_num), winner_hand = as_factor(winner_hand)) # Mutating ID_num and winner_hand into factor columns.\n",
    "# Combining winner and loser data into one column:\n",
    "tennis_pivot <- tennis_smaller |>\n",
    "    pivot_longer(cols = c(\"winner_rank\", \"loser_rank\"),\n",
    "                     names_to = \"wol_rank\",\n",
    "                     values_to = \"rank\") |>\n",
    "    pivot_longer(cols = c(\"winner_ht\", \"loser_ht\"),\n",
    "                     names_to = \"wol_height\",\n",
    "                     values_to = \"height\") |>\n",
    "    pivot_longer(cols = c(\"winner_age\", \"loser_age\"),\n",
    "                     names_to = \"wol_age\",\n",
    "                     values_to = \"age\") |>\n",
    "    pivot_longer(cols = c(\"winner_hand\", \"loser_hand\"),\n",
    "                     names_to = \"wol_hand\",\n",
    "                     values_to = \"hand\")\n",
    "tennis_pivot |>\n",
    "    slice(1 : 10) # Displaying the top 10 columns.\n",
    "#\n",
    "#Filter all the NA first before continuing"
   ]
  },
  {
   "cell_type": "code",
   "execution_count": null,
   "id": "510988d9-e9ea-4ef3-aad6-dafe3a17f5a4",
   "metadata": {},
   "outputs": [],
   "source": [
    "# Groupping by rank, surface, and hand, then finding mean height and age.\n",
    "tennis_mean <- tennis_pivot|>\n",
    "    group_by(rank, surface, hand) |>\n",
    "    summarize(mean_ht = mean(height, na.rm = TRUE), mean_age = mean(age))\n",
    "# Displaying only the top 10 columns due to space constraints:\n",
    "head(tennis_mean, 10)"
   ]
  },
  {
   "cell_type": "code",
   "execution_count": null,
   "id": "f386ecc9-c9a1-4a55-9108-b72701cc73c7",
   "metadata": {},
   "outputs": [],
   "source": [
    "# Splitting our data 75/25 into training and testing data:\n",
    "tennis_split <- initial_split(tennis_mean, prop = 0.75, strata = rank )\n",
    "tennis_training <- training(tennis_split)\n",
    "tennis_testing <- testing(tennis_split)"
   ]
  },
  {
   "cell_type": "code",
   "execution_count": null,
   "id": "63653261-e61d-4687-b949-dd21cab7c759",
   "metadata": {},
   "outputs": [],
   "source": [
    "tennis_training"
   ]
  },
  {
   "cell_type": "code",
   "execution_count": null,
   "id": "fe353d2f-c0d0-4ad0-8165-b4f89fbda5a9",
   "metadata": {},
   "outputs": [],
   "source": [
    "# Plotting rank against mean age:\n",
    "options(repr.plot.width = 9, repr.plot.height = 7)\n",
    "rank_vs_age_plot <- tennis_training|>\n",
    "    filter(surface == \"Clay\"| surface == \"Grass\"| surface == \"Hard\")|>\n",
    "    ggplot(aes(x=mean_age, y=rank, colour = surface))+\n",
    "    geom_point() +\n",
    "    labs(x = \"Mean Age (years)\", y = \"Rank\")\n",
    "rank_vs_age_plot\n",
    "#\n",
    "# use facet_grid\n",
    "#\n",
    "# Plotting height against mean age:\n",
    "rank_vs_height_plot<- tennis_training|>\n",
    "    filter(surface == \"Clay\"| surface == \"Grass\"| surface == \"Hard\")|>\n",
    "    ggplot(aes(x=mean_ht, y=rank, colour = surface))+\n",
    "    geom_point() +\n",
    "    labs(x = \"Mean Height (cm)\", y = \"Rank\")\n",
    "rank_vs_height_plot"
   ]
  },
  {
   "cell_type": "code",
   "execution_count": null,
   "id": "1cf538dd-eb62-4680-b584-b74ed2136e30",
   "metadata": {},
   "outputs": [],
   "source": [
    "# Creating a workflow for further data analysis and prediction using regression:\n",
    "tennis_spec <- nearest_neighbor(weight_func = \"rectangular\", neighbors = tune()) |> \n",
    "                  set_engine(\"kknn\") |>\n",
    "                  set_mode(\"regression\") \n",
    "\n",
    "tennis_recipe <- recipe(winner_rank ~ mean_ht + mean_age, data = tennis_training) |>\n",
    "                  step_scale(all_predictors()) |>\n",
    "                  step_center(all_predictors())\n",
    "\n",
    "tennis_workflow <- workflow() |>\n",
    "                    add_recipe(tennis_recipe) |>\n",
    "                    add_model(tennis_spec)\n",
    "tennis_workflow"
   ]
  },
  {
   "cell_type": "markdown",
   "id": "c282cb4c-394f-49ef-b33b-4bea9e73ae51",
   "metadata": {},
   "source": [
    "**Methods**\n",
    "\n",
    "We will use the variables height, winner-age, rank, and playing hand (left or right) to predict a new player’s rank. After splitting the data into testing and training sets (75/25 split), we will use cross-validation and regression to first find the best value of K for our k-nearest neighbours model. We will then fit our training data to this model and attempt to predict the ranks for our training data.  Afterwards, we will compare the true ranks to those estimated by our model and determine the model’s accuracy using RMSE. If the RMSE of the training set and the testing set are similar, then we can demonstrate the fitness of our model. \n",
    "\n",
    "Next, we will input a new player with height, age, and the player’s preferred hand and find the new player’s rank using the model that was fitted with the training data. Then, we can make 2 plots with winner_rank vs winner_height and winner_rank vs winner_age with the new player’s data to visualise whether the model is properly fitted and accurate. \n"
   ]
  },
  {
   "cell_type": "markdown",
   "id": "49bff000-2e8c-43e5-ae97-54004fcb73cb",
   "metadata": {},
   "source": [
    "**Expected Outcomes:**\n",
    "\n",
    "We expect to be able to predict the rank of a new player with reasonable accuracy, as we believe the predictors that we have picked are good at predicting the ability of a new player. Furthermore, we expect to find that the surface each game is played on will affect the predicted rank of a new player. This is because players often have more practice on specific type(s) of court(s), which would affect their performance in the game on these courts. \n",
    "\n",
    "The impacts of such findings are profound: as can be seen from our dataset, tennis players with a higher rank often win over players of lower rank. By predicting the rank of an unknown player, we are also able to roughly predict the outcome of a tennis game before the game is ever played. This has repercussions not only in the field of tennis (being able to predict whether you would win against your opponent), but also in sports gambling and fantasy sports. \n",
    "\n",
    "As to the impacts of our secondary hypothesis, if our hypothetical player finds that he is underperforming on certain playing field(s), he could practice more on these fields and improve his rank here. Our data can thus also help tennis players improve their abilities and earnings.\n",
    "\n",
    "One additional question that could arise from the results of this data analysis is whether the same results apply to the top 500 female players. Female tennis is one of the most watched female sports in the world, and if the same results apply to female tennis, then all the impacts discussed above would also apply to the field of female tennis.\n"
   ]
  },
  {
   "cell_type": "code",
   "execution_count": null,
   "id": "98c7f633-1120-4bd3-8140-7faea07952d0",
   "metadata": {},
   "outputs": [],
   "source": []
  }
 ],
 "metadata": {
  "kernelspec": {
   "display_name": "R",
   "language": "R",
   "name": "ir"
  },
  "language_info": {
   "codemirror_mode": "r",
   "file_extension": ".r",
   "mimetype": "text/x-r-source",
   "name": "R",
   "pygments_lexer": "r",
   "version": "4.1.3"
  }
 },
 "nbformat": 4,
 "nbformat_minor": 5
}
